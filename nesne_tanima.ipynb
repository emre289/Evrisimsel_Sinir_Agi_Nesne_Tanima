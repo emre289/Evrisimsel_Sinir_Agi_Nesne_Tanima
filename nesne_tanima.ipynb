{
  "nbformat": 4,
  "nbformat_minor": 0,
  "metadata": {
    "colab": {
      "provenance": []
    },
    "kernelspec": {
      "name": "python3",
      "display_name": "Python 3"
    },
    "language_info": {
      "name": "python"
    },
    "accelerator": "GPU"
  },
  "cells": [
    {
      "cell_type": "markdown",
      "source": [
        "# **Veri Setini Tanıyalım**"
      ],
      "metadata": {
        "id": "s7sIbNMMtqu9"
      }
    },
    {
      "cell_type": "markdown",
      "source": [
        "Fashion-MNIST veri seti 60.000 adeti Eğitim seti için 10.000 adette Test setinden oluşmaktadır. Toplam 10 farklı nesne vardır.\n",
        "\n",
        "Her resmin 28x28 (Yükselik*Genişlik) piksel geniliğinde olup toplam 784 pikseldir. Her pikselin değeri 0-255 arasında bir sayıdır. Her biri bir rengi ifade eder.\n",
        "\n",
        "Amacımız bu nesneleri tanımak\n",
        "\n",
        "Etiketler :\n",
        "\n",
        "0- Tişört\n",
        "\n",
        "1- Pantolon\n",
        "\n",
        "2- Kazak\n",
        "\n",
        "3- Elbise\n",
        "\n",
        "4- Ceket\n",
        "\n",
        "5- Sandalet\n",
        "\n",
        "6- Gömlek\n",
        "\n",
        "7- Spor Ayakkabı\n",
        "\n",
        "8- Çanta\n",
        "\n",
        "9- Bilek Boyunda Bot"
      ],
      "metadata": {
        "id": "GQNUfCgMtwoE"
      }
    },
    {
      "cell_type": "markdown",
      "source": [
        "# **Kütüphanelerin Yüklenmesi**"
      ],
      "metadata": {
        "id": "dTNhZl8ut238"
      }
    },
    {
      "cell_type": "code",
      "source": [
        "import keras\n",
        "from keras.datasets import fashion_mnist\n",
        "from keras.models import load_model\n",
        "from keras import models\n",
        "from keras import layers\n",
        "import numpy as np\n",
        "import matplotlib.pyplot as plt\n",
        "from matplotlib import cm\n",
        "%matplotlib inline\n",
        "import pandas as pd\n",
        "from keras.layers import Dense,Conv2D,Activation,MaxPool2D,Flatten,Dropout,BatchNormalization,Dropout\n",
        "from matplotlib import image\n",
        "from keras.models import Sequential,Model\n",
        "from keras.preprocessing import image"
      ],
      "metadata": {
        "id": "JZdLTxw5tuSl"
      },
      "execution_count": 2,
      "outputs": []
    },
    {
      "cell_type": "markdown",
      "source": [
        "# **Veri Setinin Yüklenmesi**"
      ],
      "metadata": {
        "id": "gCuAPX2Xt8lE"
      }
    },
    {
      "cell_type": "code",
      "source": [
        "(x_train,y_train),(x_test,y_test) = fashion_mnist.load_data()"
      ],
      "metadata": {
        "colab": {
          "base_uri": "https://localhost:8080/"
        },
        "id": "rnc3OY3Wt6Jz",
        "outputId": "9444a6c2-ef46-40e5-f3bf-dad18aa0d954"
      },
      "execution_count": 3,
      "outputs": [
        {
          "output_type": "stream",
          "name": "stdout",
          "text": [
            "Downloading data from https://storage.googleapis.com/tensorflow/tf-keras-datasets/train-labels-idx1-ubyte.gz\n",
            "32768/29515 [=================================] - 0s 0us/step\n",
            "40960/29515 [=========================================] - 0s 0us/step\n",
            "Downloading data from https://storage.googleapis.com/tensorflow/tf-keras-datasets/train-images-idx3-ubyte.gz\n",
            "26427392/26421880 [==============================] - 0s 0us/step\n",
            "26435584/26421880 [==============================] - 0s 0us/step\n",
            "Downloading data from https://storage.googleapis.com/tensorflow/tf-keras-datasets/t10k-labels-idx1-ubyte.gz\n",
            "16384/5148 [===============================================================================================] - 0s 0us/step\n",
            "Downloading data from https://storage.googleapis.com/tensorflow/tf-keras-datasets/t10k-images-idx3-ubyte.gz\n",
            "4423680/4422102 [==============================] - 0s 0us/step\n",
            "4431872/4422102 [==============================] - 0s 0us/step\n"
          ]
        }
      ]
    },
    {
      "cell_type": "code",
      "source": [
        "# 60k Veri Eğitim İçin Kullanılacak\n",
        "x_train.shape"
      ],
      "metadata": {
        "colab": {
          "base_uri": "https://localhost:8080/"
        },
        "id": "asNey7Zct-t7",
        "outputId": "e8702752-8b97-4d60-efef-671366e1155b"
      },
      "execution_count": 4,
      "outputs": [
        {
          "output_type": "execute_result",
          "data": {
            "text/plain": [
              "(60000, 28, 28)"
            ]
          },
          "metadata": {},
          "execution_count": 4
        }
      ]
    },
    {
      "cell_type": "code",
      "source": [
        "# 10k Veri Test İçin Kullanılacak\n",
        "x_test.shape"
      ],
      "metadata": {
        "colab": {
          "base_uri": "https://localhost:8080/"
        },
        "id": "yAm6z9GguAYr",
        "outputId": "da575803-cf30-45bc-fd62-1ab9b933e0a8"
      },
      "execution_count": 5,
      "outputs": [
        {
          "output_type": "execute_result",
          "data": {
            "text/plain": [
              "(10000, 28, 28)"
            ]
          },
          "metadata": {},
          "execution_count": 5
        }
      ]
    },
    {
      "cell_type": "code",
      "source": [
        "# Axisleri Kapatarak Örnek Resimleri Gösterdim\n",
        "plt.figure(0,figsize=(12,6))\n",
        "for i in range(1,13):\n",
        "  #i.ninci indeksteki resime çizdir\n",
        "  plt.subplot(3,4,i)\n",
        "  # eksenler kapalı\n",
        "  plt.axis('off')\n",
        "\n",
        "  img=x_train[i].reshape(28,28)\n",
        "  plt.imshow(img,cmap='gray')"
      ],
      "metadata": {
        "colab": {
          "base_uri": "https://localhost:8080/",
          "height": 357
        },
        "id": "jSJQVQ5MuB0L",
        "outputId": "f07fc2bc-8ed2-426d-ba73-8371fde1bd0c"
      },
      "execution_count": 6,
      "outputs": [
        {
          "output_type": "display_data",
          "data": {
            "text/plain": [
              "<Figure size 864x432 with 12 Axes>"
            ],
            "image/png": "[encoded data removed]"
          },
          "metadata": {
            "needs_background": "light"
          }
        }
      ]
    },
    {
      "cell_type": "markdown",
      "source": [
        "# **ONE HOT ENCODER İşleminin Yapılması**"
      ],
      "metadata": {
        "id": "vqcaDCeKukl2"
      }
    },
    {
      "cell_type": "code",
      "source": [
        "train_labels_flat = y_train\n",
        "train_labels_count=np.unique(train_labels_flat).shape[0]\n",
        "# 10 Nesne Var\n",
        "print(train_labels_count)"
      ],
      "metadata": {
        "colab": {
          "base_uri": "https://localhost:8080/"
        },
        "id": "xVtKctgguKXb",
        "outputId": "be10f3a0-0346-4eb0-fe8d-c47ce6ae4778"
      },
      "execution_count": 9,
      "outputs": [
        {
          "output_type": "stream",
          "name": "stdout",
          "text": [
            "10\n"
          ]
        }
      ]
    },
    {
      "cell_type": "code",
      "source": [
        "# Derin Öğrenme İle Tahmin Edeceğimiz İçin y_train Değerlerimizi 0-1 Dönüştürmemiz Lazım\n",
        "def labels_to_one_hot(labels_dense,num_classes):\n",
        "  num_labels=labels_dense.shape[0]\n",
        "  index_offset=np.arange(num_labels) * num_classes\n",
        "  labels_one_hot = np.zeros((num_labels,num_classes))\n",
        "  labels_one_hot.flat[index_offset + labels_dense.ravel()] =1\n",
        "  return labels_one_hot\n"
      ],
      "metadata": {
        "id": "5QyVxe07uoCm"
      },
      "execution_count": 10,
      "outputs": []
    },
    {
      "cell_type": "code",
      "source": [
        "y_train= labels_to_one_hot(train_labels_flat , train_labels_count)\n",
        "y_train= y_train.astype(np.uint8)\n",
        "pd.DataFrame(y_train)"
      ],
      "metadata": {
        "colab": {
          "base_uri": "https://localhost:8080/",
          "height": 424
        },
        "id": "exqnYFN4uojs",
        "outputId": "374e16e4-b31e-44c2-da14-3e3f99419c29"
      },
      "execution_count": 11,
      "outputs": [
        {
          "output_type": "execute_result",
          "data": {
            "text/plain": [
              "       0  1  2  3  4  5  6  7  8  9\n",
              "0      0  0  0  0  0  0  0  0  0  1\n",
              "1      1  0  0  0  0  0  0  0  0  0\n",
              "2      1  0  0  0  0  0  0  0  0  0\n",
              "3      0  0  0  1  0  0  0  0  0  0\n",
              "4      1  0  0  0  0  0  0  0  0  0\n",
              "...   .. .. .. .. .. .. .. .. .. ..\n",
              "59995  0  0  0  0  0  1  0  0  0  0\n",
              "59996  0  1  0  0  0  0  0  0  0  0\n",
              "59997  0  0  0  1  0  0  0  0  0  0\n",
              "59998  1  0  0  0  0  0  0  0  0  0\n",
              "59999  0  0  0  0  0  1  0  0  0  0\n",
              "\n",
              "[60000 rows x 10 columns]"
            ],
            "text/html": [
              "\n",
              "  <div id=\"df-e3a786dc-f7e4-4ab1-b88b-2b83b2bf0f39\">\n",
              "    <div class=\"colab-df-container\">\n",
              "      <div>\n",
              "<style scoped>\n",
              "    .dataframe tbody tr th:only-of-type {\n",
              "        vertical-align: middle;\n",
              "    }\n",
              "\n",
              "    .dataframe tbody tr th {\n",
              "        vertical-align: top;\n",
              "    }\n",
              "\n",
              "    .dataframe thead th {\n",
              "        text-align: right;\n",
              "    }\n",
              "</style>\n",
              "<table border=\"1\" class=\"dataframe\">\n",
              "  <thead>\n",
              "    <tr style=\"text-align: right;\">\n",
              "      <th></th>\n",
              "      <th>0</th>\n",
              "      <th>1</th>\n",
              "      <th>2</th>\n",
              "      <th>3</th>\n",
              "      <th>4</th>\n",
              "      <th>5</th>\n",
              "      <th>6</th>\n",
              "      <th>7</th>\n",
              "      <th>8</th>\n",
              "      <th>9</th>\n",
              "    </tr>\n",
              "  </thead>\n",
              "  <tbody>\n",
              "    <tr>\n",
              "      <th>0</th>\n",
              "      <td>0</td>\n",
              "      <td>0</td>\n",
              "      <td>0</td>\n",
              "      <td>0</td>\n",
              "      <td>0</td>\n",
              "      <td>0</td>\n",
              "      <td>0</td>\n",
              "      <td>0</td>\n",
              "      <td>0</td>\n",
              "      <td>1</td>\n",
              "    </tr>\n",
              "    <tr>\n",
              "      <th>1</th>\n",
              "      <td>1</td>\n",
              "      <td>0</td>\n",
              "      <td>0</td>\n",
              "      <td>0</td>\n",
              "      <td>0</td>\n",
              "      <td>0</td>\n",
              "      <td>0</td>\n",
              "      <td>0</td>\n",
              "      <td>0</td>\n",
              "      <td>0</td>\n",
              "    </tr>\n",
              "    <tr>\n",
              "      <th>2</th>\n",
              "      <td>1</td>\n",
              "      <td>0</td>\n",
              "      <td>0</td>\n",
              "      <td>0</td>\n",
              "      <td>0</td>\n",
              "      <td>0</td>\n",
              "      <td>0</td>\n",
              "      <td>0</td>\n",
              "      <td>0</td>\n",
              "      <td>0</td>\n",
              "    </tr>\n",
              "    <tr>\n",
              "      <th>3</th>\n",
              "      <td>0</td>\n",
              "      <td>0</td>\n",
              "      <td>0</td>\n",
              "      <td>1</td>\n",
              "      <td>0</td>\n",
              "      <td>0</td>\n",
              "      <td>0</td>\n",
              "      <td>0</td>\n",
              "      <td>0</td>\n",
              "      <td>0</td>\n",
              "    </tr>\n",
              "    <tr>\n",
              "      <th>4</th>\n",
              "      <td>1</td>\n",
              "      <td>0</td>\n",
              "      <td>0</td>\n",
              "      <td>0</td>\n",
              "      <td>0</td>\n",
              "      <td>0</td>\n",
              "      <td>0</td>\n",
              "      <td>0</td>\n",
              "      <td>0</td>\n",
              "      <td>0</td>\n",
              "    </tr>\n",
              "    <tr>\n",
              "      <th>...</th>\n",
              "      <td>...</td>\n",
              "      <td>...</td>\n",
              "      <td>...</td>\n",
              "      <td>...</td>\n",
              "      <td>...</td>\n",
              "      <td>...</td>\n",
              "      <td>...</td>\n",
              "      <td>...</td>\n",
              "      <td>...</td>\n",
              "      <td>...</td>\n",
              "    </tr>\n",
              "    <tr>\n",
              "      <th>59995</th>\n",
              "      <td>0</td>\n",
              "      <td>0</td>\n",
              "      <td>0</td>\n",
              "      <td>0</td>\n",
              "      <td>0</td>\n",
              "      <td>1</td>\n",
              "      <td>0</td>\n",
              "      <td>0</td>\n",
              "      <td>0</td>\n",
              "      <td>0</td>\n",
              "    </tr>\n",
              "    <tr>\n",
              "      <th>59996</th>\n",
              "      <td>0</td>\n",
              "      <td>1</td>\n",
              "      <td>0</td>\n",
              "      <td>0</td>\n",
              "      <td>0</td>\n",
              "      <td>0</td>\n",
              "      <td>0</td>\n",
              "      <td>0</td>\n",
              "      <td>0</td>\n",
              "      <td>0</td>\n",
              "    </tr>\n",
              "    <tr>\n",
              "      <th>59997</th>\n",
              "      <td>0</td>\n",
              "      <td>0</td>\n",
              "      <td>0</td>\n",
              "      <td>1</td>\n",
              "      <td>0</td>\n",
              "      <td>0</td>\n",
              "      <td>0</td>\n",
              "      <td>0</td>\n",
              "      <td>0</td>\n",
              "      <td>0</td>\n",
              "    </tr>\n",
              "    <tr>\n",
              "      <th>59998</th>\n",
              "      <td>1</td>\n",
              "      <td>0</td>\n",
              "      <td>0</td>\n",
              "      <td>0</td>\n",
              "      <td>0</td>\n",
              "      <td>0</td>\n",
              "      <td>0</td>\n",
              "      <td>0</td>\n",
              "      <td>0</td>\n",
              "      <td>0</td>\n",
              "    </tr>\n",
              "    <tr>\n",
              "      <th>59999</th>\n",
              "      <td>0</td>\n",
              "      <td>0</td>\n",
              "      <td>0</td>\n",
              "      <td>0</td>\n",
              "      <td>0</td>\n",
              "      <td>1</td>\n",
              "      <td>0</td>\n",
              "      <td>0</td>\n",
              "      <td>0</td>\n",
              "      <td>0</td>\n",
              "    </tr>\n",
              "  </tbody>\n",
              "</table>\n",
              "<p>60000 rows × 10 columns</p>\n",
              "</div>\n",
              "      <button class=\"colab-df-convert\" onclick=\"convertToInteractive('df-e3a786dc-f7e4-4ab1-b88b-2b83b2bf0f39')\"\n",
              "              title=\"Convert this dataframe to an interactive table.\"\n",
              "              style=\"display:none;\">\n",
              "        \n",
              "  <svg xmlns=\"http://www.w3.org/2000/svg\" height=\"24px\"viewBox=\"0 0 24 24\"\n",
              "       width=\"24px\">\n",
              "    <path d=\"M0 0h24v24H0V0z\" fill=\"none\"/>\n",
              "    <path d=\"M18.56 5.44l.94 2.06.94-2.06 2.06-.94-2.06-.94-.94-2.06-.94 2.06-2.06.94zm-11 1L8.5 8.5l.94-2.06 2.06-.94-2.06-.94L8.5 2.5l-.94 2.06-2.06.94zm10 10l.94 2.06.94-2.06 2.06-.94-2.06-.94-.94-2.06-.94 2.06-2.06.94z\"/><path d=\"M17.41 7.96l-1.37-1.37c-.4-.4-.92-.59-1.43-.59-.52 0-1.04.2-1.43.59L10.3 9.45l-7.72 7.72c-.78.78-.78 2.05 0 2.83L4 21.41c.39.39.9.59 1.41.59.51 0 1.02-.2 1.41-.59l7.78-7.78 2.81-2.81c.8-.78.8-2.07 0-2.86zM5.41 20L4 18.59l7.72-7.72 1.47 1.35L5.41 20z\"/>\n",
              "  </svg>\n",
              "      </button>\n",
              "      \n",
              "  <style>\n",
              "    .colab-df-container {\n",
              "      display:flex;\n",
              "      flex-wrap:wrap;\n",
              "      gap: 12px;\n",
              "    }\n",
              "\n",
              "    .colab-df-convert {\n",
              "      background-color: #E8F0FE;\n",
              "      border: none;\n",
              "      border-radius: 50%;\n",
              "      cursor: pointer;\n",
              "      display: none;\n",
              "      fill: #1967D2;\n",
              "      height: 32px;\n",
              "      padding: 0 0 0 0;\n",
              "      width: 32px;\n",
              "    }\n",
              "\n",
              "    .colab-df-convert:hover {\n",
              "      background-color: #E2EBFA;\n",
              "      box-shadow: 0px 1px 2px rgba(60, 64, 67, 0.3), 0px 1px 3px 1px rgba(60, 64, 67, 0.15);\n",
              "      fill: #174EA6;\n",
              "    }\n",
              "\n",
              "    [theme=dark] .colab-df-convert {\n",
              "      background-color: #3B4455;\n",
              "      fill: #D2E3FC;\n",
              "    }\n",
              "\n",
              "    [theme=dark] .colab-df-convert:hover {\n",
              "      background-color: #434B5C;\n",
              "      box-shadow: 0px 1px 3px 1px rgba(0, 0, 0, 0.15);\n",
              "      filter: drop-shadow(0px 1px 2px rgba(0, 0, 0, 0.3));\n",
              "      fill: #FFFFFF;\n",
              "    }\n",
              "  </style>\n",
              "\n",
              "      <script>\n",
              "        const buttonEl =\n",
              "          document.querySelector('#df-e3a786dc-f7e4-4ab1-b88b-2b83b2bf0f39 button.colab-df-convert');\n",
              "        buttonEl.style.display =\n",
              "          google.colab.kernel.accessAllowed ? 'block' : 'none';\n",
              "\n",
              "        async function convertToInteractive(key) {\n",
              "          const element = document.querySelector('#df-e3a786dc-f7e4-4ab1-b88b-2b83b2bf0f39');\n",
              "          const dataTable =\n",
              "            await google.colab.kernel.invokeFunction('convertToInteractive',\n",
              "                                                     [key], {});\n",
              "          if (!dataTable) return;\n",
              "\n",
              "          const docLinkHtml = 'Like what you see? Visit the ' +\n",
              "            '<a target=\"_blank\" href=https://colab.research.google.com/notebooks/data_table.ipynb>data table notebook</a>'\n",
              "            + ' to learn more about interactive tables.';\n",
              "          element.innerHTML = '';\n",
              "          dataTable['output_type'] = 'display_data';\n",
              "          await google.colab.output.renderOutput(dataTable, element);\n",
              "          const docLink = document.createElement('div');\n",
              "          docLink.innerHTML = docLinkHtml;\n",
              "          element.appendChild(docLink);\n",
              "        }\n",
              "      </script>\n",
              "    </div>\n",
              "  </div>\n",
              "  "
            ]
          },
          "metadata": {},
          "execution_count": 11
        }
      ]
    },
    {
      "cell_type": "code",
      "source": [
        "#  Derin Öğrenme İle Tahmin Edeceğimiz İçin y_test Değerlerimizi 0-1 Dönüştürmemiz Lazım\n",
        "test_labels_flat = y_test\n",
        "test_labels_count=np.unique(test_labels_flat).shape[0]\n",
        "print(test_labels_count)"
      ],
      "metadata": {
        "colab": {
          "base_uri": "https://localhost:8080/"
        },
        "id": "5ieveJG2uuft",
        "outputId": "b0850832-d75d-468c-b709-53554f72503e"
      },
      "execution_count": 13,
      "outputs": [
        {
          "output_type": "stream",
          "name": "stdout",
          "text": [
            "10\n"
          ]
        }
      ]
    },
    {
      "cell_type": "code",
      "source": [
        "y_test= labels_to_one_hot(test_labels_flat , test_labels_count)\n",
        "y_test= y_test.astype(np.uint8)\n",
        "pd.DataFrame(y_test)"
      ],
      "metadata": {
        "colab": {
          "base_uri": "https://localhost:8080/",
          "height": 424
        },
        "id": "-SkUs4Uluwds",
        "outputId": "9571fd92-a405-4980-9b46-d40f13a6ce9c"
      },
      "execution_count": 14,
      "outputs": [
        {
          "output_type": "execute_result",
          "data": {
            "text/plain": [
              "      0  1  2  3  4  5  6  7  8  9\n",
              "0     0  0  0  0  0  0  0  0  0  1\n",
              "1     0  0  1  0  0  0  0  0  0  0\n",
              "2     0  1  0  0  0  0  0  0  0  0\n",
              "3     0  1  0  0  0  0  0  0  0  0\n",
              "4     0  0  0  0  0  0  1  0  0  0\n",
              "...  .. .. .. .. .. .. .. .. .. ..\n",
              "9995  0  0  0  0  0  0  0  0  0  1\n",
              "9996  0  1  0  0  0  0  0  0  0  0\n",
              "9997  0  0  0  0  0  0  0  0  1  0\n",
              "9998  0  1  0  0  0  0  0  0  0  0\n",
              "9999  0  0  0  0  0  1  0  0  0  0\n",
              "\n",
              "[10000 rows x 10 columns]"
            ],
            "text/html": [
              "\n",
              "  <div id=\"df-e245ec7d-6faa-4e01-bb47-0ba34c805b84\">\n",
              "    <div class=\"colab-df-container\">\n",
              "      <div>\n",
              "<style scoped>\n",
              "    .dataframe tbody tr th:only-of-type {\n",
              "        vertical-align: middle;\n",
              "    }\n",
              "\n",
              "    .dataframe tbody tr th {\n",
              "        vertical-align: top;\n",
              "    }\n",
              "\n",
              "    .dataframe thead th {\n",
              "        text-align: right;\n",
              "    }\n",
              "</style>\n",
              "<table border=\"1\" class=\"dataframe\">\n",
              "  <thead>\n",
              "    <tr style=\"text-align: right;\">\n",
              "      <th></th>\n",
              "      <th>0</th>\n",
              "      <th>1</th>\n",
              "      <th>2</th>\n",
              "      <th>3</th>\n",
              "      <th>4</th>\n",
              "      <th>5</th>\n",
              "      <th>6</th>\n",
              "      <th>7</th>\n",
              "      <th>8</th>\n",
              "      <th>9</th>\n",
              "    </tr>\n",
              "  </thead>\n",
              "  <tbody>\n",
              "    <tr>\n",
              "      <th>0</th>\n",
              "      <td>0</td>\n",
              "      <td>0</td>\n",
              "      <td>0</td>\n",
              "      <td>0</td>\n",
              "      <td>0</td>\n",
              "      <td>0</td>\n",
              "      <td>0</td>\n",
              "      <td>0</td>\n",
              "      <td>0</td>\n",
              "      <td>1</td>\n",
              "    </tr>\n",
              "    <tr>\n",
              "      <th>1</th>\n",
              "      <td>0</td>\n",
              "      <td>0</td>\n",
              "      <td>1</td>\n",
              "      <td>0</td>\n",
              "      <td>0</td>\n",
              "      <td>0</td>\n",
              "      <td>0</td>\n",
              "      <td>0</td>\n",
              "      <td>0</td>\n",
              "      <td>0</td>\n",
              "    </tr>\n",
              "    <tr>\n",
              "      <th>2</th>\n",
              "      <td>0</td>\n",
              "      <td>1</td>\n",
              "      <td>0</td>\n",
              "      <td>0</td>\n",
              "      <td>0</td>\n",
              "      <td>0</td>\n",
              "      <td>0</td>\n",
              "      <td>0</td>\n",
              "      <td>0</td>\n",
              "      <td>0</td>\n",
              "    </tr>\n",
              "    <tr>\n",
              "      <th>3</th>\n",
              "      <td>0</td>\n",
              "      <td>1</td>\n",
              "      <td>0</td>\n",
              "      <td>0</td>\n",
              "      <td>0</td>\n",
              "      <td>0</td>\n",
              "      <td>0</td>\n",
              "      <td>0</td>\n",
              "      <td>0</td>\n",
              "      <td>0</td>\n",
              "    </tr>\n",
              "    <tr>\n",
              "      <th>4</th>\n",
              "      <td>0</td>\n",
              "      <td>0</td>\n",
              "      <td>0</td>\n",
              "      <td>0</td>\n",
              "      <td>0</td>\n",
              "      <td>0</td>\n",
              "      <td>1</td>\n",
              "      <td>0</td>\n",
              "      <td>0</td>\n",
              "      <td>0</td>\n",
              "    </tr>\n",
              "    <tr>\n",
              "      <th>...</th>\n",
              "      <td>...</td>\n",
              "      <td>...</td>\n",
              "      <td>...</td>\n",
              "      <td>...</td>\n",
              "      <td>...</td>\n",
              "      <td>...</td>\n",
              "      <td>...</td>\n",
              "      <td>...</td>\n",
              "      <td>...</td>\n",
              "      <td>...</td>\n",
              "    </tr>\n",
              "    <tr>\n",
              "      <th>9995</th>\n",
              "      <td>0</td>\n",
              "      <td>0</td>\n",
              "      <td>0</td>\n",
              "      <td>0</td>\n",
              "      <td>0</td>\n",
              "      <td>0</td>\n",
              "      <td>0</td>\n",
              "      <td>0</td>\n",
              "      <td>0</td>\n",
              "      <td>1</td>\n",
              "    </tr>\n",
              "    <tr>\n",
              "      <th>9996</th>\n",
              "      <td>0</td>\n",
              "      <td>1</td>\n",
              "      <td>0</td>\n",
              "      <td>0</td>\n",
              "      <td>0</td>\n",
              "      <td>0</td>\n",
              "      <td>0</td>\n",
              "      <td>0</td>\n",
              "      <td>0</td>\n",
              "      <td>0</td>\n",
              "    </tr>\n",
              "    <tr>\n",
              "      <th>9997</th>\n",
              "      <td>0</td>\n",
              "      <td>0</td>\n",
              "      <td>0</td>\n",
              "      <td>0</td>\n",
              "      <td>0</td>\n",
              "      <td>0</td>\n",
              "      <td>0</td>\n",
              "      <td>0</td>\n",
              "      <td>1</td>\n",
              "      <td>0</td>\n",
              "    </tr>\n",
              "    <tr>\n",
              "      <th>9998</th>\n",
              "      <td>0</td>\n",
              "      <td>1</td>\n",
              "      <td>0</td>\n",
              "      <td>0</td>\n",
              "      <td>0</td>\n",
              "      <td>0</td>\n",
              "      <td>0</td>\n",
              "      <td>0</td>\n",
              "      <td>0</td>\n",
              "      <td>0</td>\n",
              "    </tr>\n",
              "    <tr>\n",
              "      <th>9999</th>\n",
              "      <td>0</td>\n",
              "      <td>0</td>\n",
              "      <td>0</td>\n",
              "      <td>0</td>\n",
              "      <td>0</td>\n",
              "      <td>1</td>\n",
              "      <td>0</td>\n",
              "      <td>0</td>\n",
              "      <td>0</td>\n",
              "      <td>0</td>\n",
              "    </tr>\n",
              "  </tbody>\n",
              "</table>\n",
              "<p>10000 rows × 10 columns</p>\n",
              "</div>\n",
              "      <button class=\"colab-df-convert\" onclick=\"convertToInteractive('df-e245ec7d-6faa-4e01-bb47-0ba34c805b84')\"\n",
              "              title=\"Convert this dataframe to an interactive table.\"\n",
              "              style=\"display:none;\">\n",
              "        \n",
              "  <svg xmlns=\"http://www.w3.org/2000/svg\" height=\"24px\"viewBox=\"0 0 24 24\"\n",
              "       width=\"24px\">\n",
              "    <path d=\"M0 0h24v24H0V0z\" fill=\"none\"/>\n",
              "    <path d=\"M18.56 5.44l.94 2.06.94-2.06 2.06-.94-2.06-.94-.94-2.06-.94 2.06-2.06.94zm-11 1L8.5 8.5l.94-2.06 2.06-.94-2.06-.94L8.5 2.5l-.94 2.06-2.06.94zm10 10l.94 2.06.94-2.06 2.06-.94-2.06-.94-.94-2.06-.94 2.06-2.06.94z\"/><path d=\"M17.41 7.96l-1.37-1.37c-.4-.4-.92-.59-1.43-.59-.52 0-1.04.2-1.43.59L10.3 9.45l-7.72 7.72c-.78.78-.78 2.05 0 2.83L4 21.41c.39.39.9.59 1.41.59.51 0 1.02-.2 1.41-.59l7.78-7.78 2.81-2.81c.8-.78.8-2.07 0-2.86zM5.41 20L4 18.59l7.72-7.72 1.47 1.35L5.41 20z\"/>\n",
              "  </svg>\n",
              "      </button>\n",
              "      \n",
              "  <style>\n",
              "    .colab-df-container {\n",
              "      display:flex;\n",
              "      flex-wrap:wrap;\n",
              "      gap: 12px;\n",
              "    }\n",
              "\n",
              "    .colab-df-convert {\n",
              "      background-color: #E8F0FE;\n",
              "      border: none;\n",
              "      border-radius: 50%;\n",
              "      cursor: pointer;\n",
              "      display: none;\n",
              "      fill: #1967D2;\n",
              "      height: 32px;\n",
              "      padding: 0 0 0 0;\n",
              "      width: 32px;\n",
              "    }\n",
              "\n",
              "    .colab-df-convert:hover {\n",
              "      background-color: #E2EBFA;\n",
              "      box-shadow: 0px 1px 2px rgba(60, 64, 67, 0.3), 0px 1px 3px 1px rgba(60, 64, 67, 0.15);\n",
              "      fill: #174EA6;\n",
              "    }\n",
              "\n",
              "    [theme=dark] .colab-df-convert {\n",
              "      background-color: #3B4455;\n",
              "      fill: #D2E3FC;\n",
              "    }\n",
              "\n",
              "    [theme=dark] .colab-df-convert:hover {\n",
              "      background-color: #434B5C;\n",
              "      box-shadow: 0px 1px 3px 1px rgba(0, 0, 0, 0.15);\n",
              "      filter: drop-shadow(0px 1px 2px rgba(0, 0, 0, 0.3));\n",
              "      fill: #FFFFFF;\n",
              "    }\n",
              "  </style>\n",
              "\n",
              "      <script>\n",
              "        const buttonEl =\n",
              "          document.querySelector('#df-e245ec7d-6faa-4e01-bb47-0ba34c805b84 button.colab-df-convert');\n",
              "        buttonEl.style.display =\n",
              "          google.colab.kernel.accessAllowed ? 'block' : 'none';\n",
              "\n",
              "        async function convertToInteractive(key) {\n",
              "          const element = document.querySelector('#df-e245ec7d-6faa-4e01-bb47-0ba34c805b84');\n",
              "          const dataTable =\n",
              "            await google.colab.kernel.invokeFunction('convertToInteractive',\n",
              "                                                     [key], {});\n",
              "          if (!dataTable) return;\n",
              "\n",
              "          const docLinkHtml = 'Like what you see? Visit the ' +\n",
              "            '<a target=\"_blank\" href=https://colab.research.google.com/notebooks/data_table.ipynb>data table notebook</a>'\n",
              "            + ' to learn more about interactive tables.';\n",
              "          element.innerHTML = '';\n",
              "          dataTable['output_type'] = 'display_data';\n",
              "          await google.colab.output.renderOutput(dataTable, element);\n",
              "          const docLink = document.createElement('div');\n",
              "          docLink.innerHTML = docLinkHtml;\n",
              "          element.appendChild(docLink);\n",
              "        }\n",
              "      </script>\n",
              "    </div>\n",
              "  </div>\n",
              "  "
            ]
          },
          "metadata": {},
          "execution_count": 14
        }
      ]
    },
    {
      "cell_type": "markdown",
      "source": [
        "# **Modelin Oluşturulması**"
      ],
      "metadata": {
        "id": "VKsw3xeFu59k"
      }
    },
    {
      "cell_type": "code",
      "source": [
        "# Derin Ağımızda Katman Oluşturmak İçin Kerasın Sequential Modelini Kullanacaz\n",
        "model= Sequential()\n",
        "\n",
        "# 1.Katman Filtreleme (Convolutional )\n",
        "# channel= ÖnceYükselik,Genişlik,Kanal  (Renk Sayısı) bilgisi olacak\n",
        "# 3 RGB (RED,GREEN,BLUE)\n",
        "model.add(Conv2D(64,3, data_format='channels_last',kernel_initializer=\"he_normal\",input_shape=(28,28,1)))\n",
        "model.add(BatchNormalization())\n",
        "model.add(Activation('relu'))\n",
        "\n",
        "#2.Katman\n",
        "model.add(Conv2D(64,3))\n",
        "model.add(BatchNormalization())\n",
        "model.add(Activation('relu'))\n",
        "model.add(MaxPool2D(pool_size=(2,2),strides=2)) #strides = Adım aralığı 2 şer atlayacak\n",
        "# Aşırı Öğrenme Önlemek İçin, % 60 Unutma İşlemi (Nöron Silme - Dropout)\n",
        "model.add(Dropout(0.6)) \n",
        "\n",
        "# 3. Katman\n",
        "model.add(Conv2D(64,3))\n",
        "model.add(BatchNormalization())\n",
        "model.add(Activation('relu'))\n",
        "\n",
        "# 4. Katman\n",
        "model.add(Conv2D(32,3))\n",
        "model.add(BatchNormalization())\n",
        "model.add(Activation('relu'))\n",
        "\n",
        "# 5.Katman\n",
        "model.add(Conv2D(32,3))\n",
        "model.add(BatchNormalization())\n",
        "model.add(Activation('relu'))\n",
        "model.add(MaxPool2D(pool_size=(2,2),strides=2)) #strride = Adım aralığı 2 şer atlayacak\n",
        "model.add(Dropout(0.6)) \n",
        " \n",
        "# Tam Bağlantı Katmanı (Düzleştirme Yaptık--Flatten)\n",
        "model.add(Flatten())\n",
        "model.add(Dense(128))\n",
        "model.add(BatchNormalization())\n",
        "model.add(Activation('relu'))\n",
        "model.add(Dropout(0.6)) # %60 Unutma İşlemi (Nöron Silme - Dropout)\n",
        "\n",
        "\n",
        "# Çıkış Katmanı\n",
        "# Sınıflandırmada 10 Adet Nesne Var\n",
        "model.add(Dense(10))\n",
        "model.add(Activation('softmax')) # Sınıflandırıcı yapabileceğim aktivasyon\n",
        "\n",
        "model.compile(loss='categorical_crossentropy',optimizer='adam',metrics=['accuracy'])\n",
        "\n",
        "# MODELİN ÖZETİNİ GÖRME\n",
        "# Params, Katmanlarda Öğrenilen Parametre Sayısını İfade Eder\n",
        "model.summary()"
      ],
      "metadata": {
        "colab": {
          "base_uri": "https://localhost:8080/"
        },
        "id": "Y1jvTjoSu2yc",
        "outputId": "759b5740-8305-493f-e93d-473d7f8302e8"
      },
      "execution_count": 15,
      "outputs": [
        {
          "output_type": "stream",
          "name": "stdout",
          "text": [
            "Model: \"sequential\"\n",
            "_________________________________________________________________\n",
            " Layer (type)                Output Shape              Param #   \n",
            "=================================================================\n",
            " conv2d (Conv2D)             (None, 26, 26, 64)        640       \n",
            "                                                                 \n",
            " batch_normalization (BatchN  (None, 26, 26, 64)       256       \n",
            " ormalization)                                                   \n",
            "                                                                 \n",
            " activation (Activation)     (None, 26, 26, 64)        0         \n",
            "                                                                 \n",
            " conv2d_1 (Conv2D)           (None, 24, 24, 64)        36928     \n",
            "                                                                 \n",
            " batch_normalization_1 (Batc  (None, 24, 24, 64)       256       \n",
            " hNormalization)                                                 \n",
            "                                                                 \n",
            " activation_1 (Activation)   (None, 24, 24, 64)        0         \n",
            "                                                                 \n",
            " max_pooling2d (MaxPooling2D  (None, 12, 12, 64)       0         \n",
            " )                                                               \n",
            "                                                                 \n",
            " dropout (Dropout)           (None, 12, 12, 64)        0         \n",
            "                                                                 \n",
            " conv2d_2 (Conv2D)           (None, 10, 10, 64)        36928     \n",
            "                                                                 \n",
            " batch_normalization_2 (Batc  (None, 10, 10, 64)       256       \n",
            " hNormalization)                                                 \n",
            "                                                                 \n",
            " activation_2 (Activation)   (None, 10, 10, 64)        0         \n",
            "                                                                 \n",
            " conv2d_3 (Conv2D)           (None, 8, 8, 32)          18464     \n",
            "                                                                 \n",
            " batch_normalization_3 (Batc  (None, 8, 8, 32)         128       \n",
            " hNormalization)                                                 \n",
            "                                                                 \n",
            " activation_3 (Activation)   (None, 8, 8, 32)          0         \n",
            "                                                                 \n",
            " conv2d_4 (Conv2D)           (None, 6, 6, 32)          9248      \n",
            "                                                                 \n",
            " batch_normalization_4 (Batc  (None, 6, 6, 32)         128       \n",
            " hNormalization)                                                 \n",
            "                                                                 \n",
            " activation_4 (Activation)   (None, 6, 6, 32)          0         \n",
            "                                                                 \n",
            " max_pooling2d_1 (MaxPooling  (None, 3, 3, 32)         0         \n",
            " 2D)                                                             \n",
            "                                                                 \n",
            " dropout_1 (Dropout)         (None, 3, 3, 32)          0         \n",
            "                                                                 \n",
            " flatten (Flatten)           (None, 288)               0         \n",
            "                                                                 \n",
            " dense (Dense)               (None, 128)               36992     \n",
            "                                                                 \n",
            " batch_normalization_5 (Batc  (None, 128)              512       \n",
            " hNormalization)                                                 \n",
            "                                                                 \n",
            " activation_5 (Activation)   (None, 128)               0         \n",
            "                                                                 \n",
            " dropout_2 (Dropout)         (None, 128)               0         \n",
            "                                                                 \n",
            " dense_1 (Dense)             (None, 10)                1290      \n",
            "                                                                 \n",
            " activation_6 (Activation)   (None, 10)                0         \n",
            "                                                                 \n",
            "=================================================================\n",
            "Total params: 142,026\n",
            "Trainable params: 141,258\n",
            "Non-trainable params: 768\n",
            "_________________________________________________________________\n"
          ]
        }
      ]
    },
    {
      "cell_type": "code",
      "source": [
        "# Oluşan Güncel Durumda ki Resimleri (x_train,x_test) bağımsız değişkenlere atadık\n",
        "x_train =x_train.reshape(-1,28,28,1)\n",
        "x_test=x_test.reshape(-1,28,28,1)\n",
        "print(f\"Bağımsız Train Değeri: {x_train.shape}\\nBağımsız Test Değeri: {x_test.shape}\")"
      ],
      "metadata": {
        "colab": {
          "base_uri": "https://localhost:8080/"
        },
        "id": "XHGA1qrdvEQN",
        "outputId": "67c3c642-5596-4a2c-eac8-1b0ba759e175"
      },
      "execution_count": 16,
      "outputs": [
        {
          "output_type": "stream",
          "name": "stdout",
          "text": [
            "Bağımsız Train Değeri: (60000, 28, 28, 1)\n",
            "Bağımsız Test Değeri: (10000, 28, 28, 1)\n"
          ]
        }
      ]
    },
    {
      "cell_type": "code",
      "source": [
        "# Bağımlı Değerler\n",
        "print(f\"Bağımlı Train Değeri: {y_train.shape}\\nBağımlı Test Değeri: {y_test.shape}\")"
      ],
      "metadata": {
        "colab": {
          "base_uri": "https://localhost:8080/"
        },
        "id": "I29mjc64vEac",
        "outputId": "7258b028-d129-4453-d196-9d03d1e93c19"
      },
      "execution_count": 17,
      "outputs": [
        {
          "output_type": "stream",
          "name": "stdout",
          "text": [
            "Bağımlı Train Değeri: (60000, 10)\n",
            "Bağımlı Test Değeri: (10000, 10)\n"
          ]
        }
      ]
    },
    {
      "cell_type": "markdown",
      "source": [
        "# **Modelin Eğitilmesi**"
      ],
      "metadata": {
        "id": "wG5ovHw1vLB0"
      }
    },
    {
      "cell_type": "code",
      "source": [
        "epochs=40\n",
        "# Veri Seinin Paketler Halinde Eğitiyor // 600 Resmi Paket (Küme) Şeklinde Eğitecek\n",
        "# 60.000 / 100 = 600\n",
        "batchSize=100\n",
        "\n",
        "# Modelin Çalıştırılması\n",
        "hist=model.fit(x_train,y_train,\n",
        "               epochs=epochs,\n",
        "               shuffle=True, # Karışık Şekilde Görselleri Alır\n",
        "               batch_size=batchSize,\n",
        "               validation_data=(x_test,y_test)) # Doğrulama İşlemi Yaptık"
      ],
      "metadata": {
        "colab": {
          "base_uri": "https://localhost:8080/"
        },
        "id": "qjixxSf_vIq7",
        "outputId": "a04a2651-a8e3-4d98-9a44-49d160b6d063"
      },
      "execution_count": 18,
      "outputs": [
        {
          "output_type": "stream",
          "name": "stdout",
          "text": [
            "Epoch 1/40\n",
            "600/600 [==============================] - 18s 14ms/step - loss: 1.0099 - accuracy: 0.6357 - val_loss: 0.5542 - val_accuracy: 0.7823\n",
            "Epoch 2/40\n",
            "600/600 [==============================] - 7s 12ms/step - loss: 0.6007 - accuracy: 0.7776 - val_loss: 0.4356 - val_accuracy: 0.8288\n",
            "Epoch 3/40\n",
            "600/600 [==============================] - 7s 12ms/step - loss: 0.5124 - accuracy: 0.8141 - val_loss: 0.3798 - val_accuracy: 0.8632\n",
            "Epoch 4/40\n",
            "600/600 [==============================] - 7s 12ms/step - loss: 0.4652 - accuracy: 0.8324 - val_loss: 0.3519 - val_accuracy: 0.8716\n",
            "Epoch 5/40\n",
            "600/600 [==============================] - 8s 13ms/step - loss: 0.4285 - accuracy: 0.8483 - val_loss: 0.3242 - val_accuracy: 0.8784\n",
            "Epoch 6/40\n",
            "600/600 [==============================] - 7s 12ms/step - loss: 0.4060 - accuracy: 0.8573 - val_loss: 0.2920 - val_accuracy: 0.8926\n",
            "Epoch 7/40\n",
            "600/600 [==============================] - 7s 12ms/step - loss: 0.3815 - accuracy: 0.8664 - val_loss: 0.3054 - val_accuracy: 0.8898\n",
            "Epoch 8/40\n",
            "600/600 [==============================] - 7s 12ms/step - loss: 0.3725 - accuracy: 0.8694 - val_loss: 0.2816 - val_accuracy: 0.8942\n",
            "Epoch 9/40\n",
            "600/600 [==============================] - 7s 12ms/step - loss: 0.3607 - accuracy: 0.8731 - val_loss: 0.2721 - val_accuracy: 0.9023\n",
            "Epoch 10/40\n",
            "600/600 [==============================] - 7s 12ms/step - loss: 0.3431 - accuracy: 0.8796 - val_loss: 0.2681 - val_accuracy: 0.9022\n",
            "Epoch 11/40\n",
            "600/600 [==============================] - 7s 12ms/step - loss: 0.3368 - accuracy: 0.8807 - val_loss: 0.2646 - val_accuracy: 0.9034\n",
            "Epoch 12/40\n",
            "600/600 [==============================] - 7s 12ms/step - loss: 0.3300 - accuracy: 0.8837 - val_loss: 0.2502 - val_accuracy: 0.9087\n",
            "Epoch 13/40\n",
            "600/600 [==============================] - 7s 12ms/step - loss: 0.3276 - accuracy: 0.8851 - val_loss: 0.2550 - val_accuracy: 0.9064\n",
            "Epoch 14/40\n",
            "600/600 [==============================] - 7s 12ms/step - loss: 0.3202 - accuracy: 0.8865 - val_loss: 0.2568 - val_accuracy: 0.9046\n",
            "Epoch 15/40\n",
            "600/600 [==============================] - 7s 12ms/step - loss: 0.3133 - accuracy: 0.8893 - val_loss: 0.2485 - val_accuracy: 0.9085\n",
            "Epoch 16/40\n",
            "600/600 [==============================] - 7s 12ms/step - loss: 0.3101 - accuracy: 0.8909 - val_loss: 0.2412 - val_accuracy: 0.9123\n",
            "Epoch 17/40\n",
            "600/600 [==============================] - 7s 11ms/step - loss: 0.3057 - accuracy: 0.8914 - val_loss: 0.2459 - val_accuracy: 0.9079\n",
            "Epoch 18/40\n",
            "600/600 [==============================] - 7s 12ms/step - loss: 0.2991 - accuracy: 0.8947 - val_loss: 0.2416 - val_accuracy: 0.9121\n",
            "Epoch 19/40\n",
            "600/600 [==============================] - 7s 12ms/step - loss: 0.2969 - accuracy: 0.8957 - val_loss: 0.2320 - val_accuracy: 0.9167\n",
            "Epoch 20/40\n",
            "600/600 [==============================] - 7s 12ms/step - loss: 0.2945 - accuracy: 0.8973 - val_loss: 0.2509 - val_accuracy: 0.9095\n",
            "Epoch 21/40\n",
            "600/600 [==============================] - 7s 12ms/step - loss: 0.2885 - accuracy: 0.8996 - val_loss: 0.2479 - val_accuracy: 0.9114\n",
            "Epoch 22/40\n",
            "600/600 [==============================] - 7s 11ms/step - loss: 0.2873 - accuracy: 0.8982 - val_loss: 0.2362 - val_accuracy: 0.9137\n",
            "Epoch 23/40\n",
            "600/600 [==============================] - 7s 11ms/step - loss: 0.2854 - accuracy: 0.8995 - val_loss: 0.2345 - val_accuracy: 0.9141\n",
            "Epoch 24/40\n",
            "600/600 [==============================] - 7s 12ms/step - loss: 0.2793 - accuracy: 0.9013 - val_loss: 0.2277 - val_accuracy: 0.9200\n",
            "Epoch 25/40\n",
            "600/600 [==============================] - 7s 12ms/step - loss: 0.2794 - accuracy: 0.9011 - val_loss: 0.2211 - val_accuracy: 0.9224\n",
            "Epoch 26/40\n",
            "600/600 [==============================] - 7s 12ms/step - loss: 0.2744 - accuracy: 0.9038 - val_loss: 0.2251 - val_accuracy: 0.9182\n",
            "Epoch 27/40\n",
            "600/600 [==============================] - 8s 13ms/step - loss: 0.2771 - accuracy: 0.9034 - val_loss: 0.2248 - val_accuracy: 0.9189\n",
            "Epoch 28/40\n",
            "600/600 [==============================] - 7s 12ms/step - loss: 0.2745 - accuracy: 0.9041 - val_loss: 0.2389 - val_accuracy: 0.9133\n",
            "Epoch 29/40\n",
            "600/600 [==============================] - 7s 11ms/step - loss: 0.2706 - accuracy: 0.9050 - val_loss: 0.2260 - val_accuracy: 0.9180\n",
            "Epoch 30/40\n",
            "600/600 [==============================] - 7s 11ms/step - loss: 0.2679 - accuracy: 0.9056 - val_loss: 0.2256 - val_accuracy: 0.9177\n",
            "Epoch 31/40\n",
            "600/600 [==============================] - 7s 11ms/step - loss: 0.2669 - accuracy: 0.9047 - val_loss: 0.2179 - val_accuracy: 0.9218\n",
            "Epoch 32/40\n",
            "600/600 [==============================] - 7s 12ms/step - loss: 0.2665 - accuracy: 0.9064 - val_loss: 0.2209 - val_accuracy: 0.9204\n",
            "Epoch 33/40\n",
            "600/600 [==============================] - 7s 11ms/step - loss: 0.2646 - accuracy: 0.9064 - val_loss: 0.2169 - val_accuracy: 0.9218\n",
            "Epoch 34/40\n",
            "600/600 [==============================] - 7s 11ms/step - loss: 0.2577 - accuracy: 0.9089 - val_loss: 0.2206 - val_accuracy: 0.9197\n",
            "Epoch 35/40\n",
            "600/600 [==============================] - 7s 12ms/step - loss: 0.2580 - accuracy: 0.9083 - val_loss: 0.2149 - val_accuracy: 0.9211\n",
            "Epoch 36/40\n",
            "600/600 [==============================] - 7s 11ms/step - loss: 0.2593 - accuracy: 0.9081 - val_loss: 0.2181 - val_accuracy: 0.9213\n",
            "Epoch 37/40\n",
            "600/600 [==============================] - 7s 12ms/step - loss: 0.2558 - accuracy: 0.9101 - val_loss: 0.2158 - val_accuracy: 0.9225\n",
            "Epoch 38/40\n",
            "600/600 [==============================] - 7s 11ms/step - loss: 0.2541 - accuracy: 0.9109 - val_loss: 0.2154 - val_accuracy: 0.9225\n",
            "Epoch 39/40\n",
            "600/600 [==============================] - 7s 11ms/step - loss: 0.2544 - accuracy: 0.9109 - val_loss: 0.2075 - val_accuracy: 0.9230\n",
            "Epoch 40/40\n",
            "600/600 [==============================] - 7s 11ms/step - loss: 0.2545 - accuracy: 0.9115 - val_loss: 0.2264 - val_accuracy: 0.9144\n"
          ]
        }
      ]
    },
    {
      "cell_type": "markdown",
      "source": [
        "# **Sonucun Görselleştirilmesi**"
      ],
      "metadata": {
        "id": "N6f-bng4vTNV"
      }
    },
    {
      "cell_type": "code",
      "source": [
        "plt.figure(figsize=(14,3))\n",
        "plt.subplot(1,2,1)\n",
        "plt.suptitle('Train',fontsize=10)\n",
        "plt.ylabel('Loss',fontsize=16)\n",
        "plt.plot(hist.history['loss'],color='r',label='Training Loss')\n",
        "plt.plot(hist.history['val_loss'],color='b',label='Validation Loss')\n",
        "plt.legend(loc='upper right')\n",
        "\n",
        "plt.subplot(1,2,2)\n",
        "plt.ylabel('Accuracy',fontsize=16)\n",
        "plt.plot(hist.history['accuracy'],color='g',label='Training Accuracy')\n",
        "plt.plot(hist.history['val_accuracy'],color='m',label='Validation Accuracy')\n",
        "plt.legend(loc='lower right')\n",
        "plt.show()"
      ],
      "metadata": {
        "colab": {
          "base_uri": "https://localhost:8080/",
          "height": 233
        },
        "id": "zms4S8TEvNHb",
        "outputId": "601abb8f-cd63-4a37-e094-c55dbdd49e2a"
      },
      "execution_count": 20,
      "outputs": [
        {
          "output_type": "display_data",
          "data": {
            "text/plain": [
              "<Figure size 1008x216 with 2 Axes>"
            ],
            "image/png": "[encoded data removed]"
          },
          "metadata": {
            "needs_background": "light"
          }
        }
      ]
    },
    {
      "cell_type": "markdown",
      "source": [
        "# **Başarı Oranım %91**"
      ],
      "metadata": {
        "id": "Mt5BaQAMvbh0"
      }
    },
    {
      "cell_type": "code",
      "source": [
        "model.evaluate(x_test, y_test)"
      ],
      "metadata": {
        "colab": {
          "base_uri": "https://localhost:8080/"
        },
        "id": "eSpCjEUTvdR9",
        "outputId": "dd17986b-4b2c-4155-f70c-85b2c360bec9"
      },
      "execution_count": 21,
      "outputs": [
        {
          "output_type": "stream",
          "name": "stdout",
          "text": [
            "313/313 [==============================] - 1s 4ms/step - loss: 0.2264 - accuracy: 0.9144\n"
          ]
        },
        {
          "output_type": "execute_result",
          "data": {
            "text/plain": [
              "[0.2264484167098999, 0.9143999814987183]"
            ]
          },
          "metadata": {},
          "execution_count": 21
        }
      ]
    },
    {
      "cell_type": "markdown",
      "source": [
        "# **Rastegele Seçtiğim Bir Resmin Başarısını Ölçtüm**\n"
      ],
      "metadata": {
        "id": "eRr5Xx7NvkF-"
      }
    },
    {
      "cell_type": "code",
      "source": [
        "predict_result = model.predict(x_test[40].reshape(1,28,28))\n",
        "predict_result"
      ],
      "metadata": {
        "colab": {
          "base_uri": "https://localhost:8080/"
        },
        "id": "Lqw8aRL4vfx9",
        "outputId": "b1df6bc7-264a-404c-d35a-06c4074c7b7a"
      },
      "execution_count": 38,
      "outputs": [
        {
          "output_type": "execute_result",
          "data": {
            "text/plain": [
              "array([[5.9673771e-02, 6.6179194e-07, 5.0764826e-05, 5.8439490e-04,\n",
              "        2.3721684e-04, 1.5946911e-08, 9.3945229e-01, 8.8102792e-10,\n",
              "        8.3707982e-07, 7.9150997e-09]], dtype=float32)"
            ]
          },
          "metadata": {},
          "execution_count": 38
        }
      ]
    },
    {
      "cell_type": "code",
      "source": [
        "# Yukarıda Yazmış Olduğumuz Tahmin Edilen Sınıfı Buldu (0...9 )\n",
        "predicted_class = predict_result.argmax()\n",
        "# Bulununan Nesnenin Doğruluğu Tahmin Edildi\n",
        "predicted_probability = predict_result.max()"
      ],
      "metadata": {
        "id": "ssFoSYRxvl8v"
      },
      "execution_count": 39,
      "outputs": []
    },
    {
      "cell_type": "code",
      "source": [
        "img=x_test[40].reshape(28,28)\n",
        "plt.imshow(img,cmap='gray')"
      ],
      "metadata": {
        "colab": {
          "base_uri": "https://localhost:8080/",
          "height": 282
        },
        "id": "RkjeI45_xUs3",
        "outputId": "b100e2e6-3b57-49e9-f958-ff26fe5d9873"
      },
      "execution_count": 40,
      "outputs": [
        {
          "output_type": "execute_result",
          "data": {
            "text/plain": [
              "<matplotlib.image.AxesImage at 0x7f0d52095110>"
            ]
          },
          "metadata": {},
          "execution_count": 40
        },
        {
          "output_type": "display_data",
          "data": {
            "text/plain": [
              "<Figure size 432x288 with 1 Axes>"
            ],
            "image/png": "[encoded data removed]"
          },
          "metadata": {
            "needs_background": "light"
          }
        }
      ]
    },
    {
      "cell_type": "code",
      "source": [
        "# 152 Nolu nesnenin Tahmin Olasılığı %98\n",
        "print(f\" Seçilen resmin {predicted_class} nolu nesneye ait olma olasılığı % {predicted_probability} \")"
      ],
      "metadata": {
        "colab": {
          "base_uri": "https://localhost:8080/"
        },
        "id": "WmEgBFA3vnQt",
        "outputId": "3ab7bb91-5f16-481d-8b6f-a48496e90c38"
      },
      "execution_count": 41,
      "outputs": [
        {
          "output_type": "stream",
          "name": "stdout",
          "text": [
            " Seçilen resmin 6 nolu nesneye ait olma olasılığı % 0.9394522905349731 \n"
          ]
        }
      ]
    },
    {
      "cell_type": "code",
      "source": [],
      "metadata": {
        "id": "8uyocDBnwp9c"
      },
      "execution_count": null,
      "outputs": []
    }
  ]
}